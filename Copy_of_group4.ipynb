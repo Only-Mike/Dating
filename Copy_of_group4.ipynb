{
  "nbformat": 4,
  "nbformat_minor": 0,
  "metadata": {
    "colab": {
      "provenance": []
    },
    "kernelspec": {
      "name": "python3",
      "display_name": "Python 3"
    },
    "language_info": {
      "name": "python"
    }
  },
  "cells": [
    {
      "cell_type": "code",
      "execution_count": null,
      "metadata": {
        "id": "gBitwZD0B9G2"
      },
      "outputs": [],
      "source": [
        "import pandas as pd\n",
        "import numpy as np\n"
      ]
    },
    {
      "cell_type": "code",
      "source": [
        "import seaborn as sns"
      ],
      "metadata": {
        "id": "3vLtth1XHCML"
      },
      "execution_count": null,
      "outputs": []
    },
    {
      "cell_type": "code",
      "source": [
        "from matplotlib import pyplot as plt"
      ],
      "metadata": {
        "id": "4cD7CDEDHGPI"
      },
      "execution_count": null,
      "outputs": []
    },
    {
      "cell_type": "code",
      "source": [
        "#import the data\n",
        "! pip install -U -q kaggle\n",
        "!mkdir -p ~/.kaggle\n",
        "!echo '{\"username\":\"zhenzacharywang\",\"key\":\"9df714c29147ddb483918c0ed5ed1c9e\"}' >~/.kaggle/kaggle.json\n",
        "!chmod 600 ~/.kaggle/kaggle.json\n",
        "\n",
        "!kaggle datasets download -d subhamyadav580/dating-site"
      ],
      "metadata": {
        "id": "ZgRt-lmCGjtp",
        "colab": {
          "base_uri": "https://localhost:8080/"
        },
        "outputId": "7554cfdc-7652-4f4a-d3e1-f024d91c132d"
      },
      "execution_count": null,
      "outputs": [
        {
          "output_type": "stream",
          "name": "stdout",
          "text": [
            "dating-site.zip: Skipping, found more recently modified local copy (use --force to force download)\n"
          ]
        }
      ]
    },
    {
      "cell_type": "code",
      "source": [
        "data=pd.read_csv('dating-site.zip')"
      ],
      "metadata": {
        "id": "3xxgUkmsFS_V"
      },
      "execution_count": null,
      "outputs": []
    },
    {
      "cell_type": "code",
      "source": [
        "data.info()"
      ],
      "metadata": {
        "colab": {
          "base_uri": "https://localhost:8080/"
        },
        "id": "bIoSW69_Q2ha",
        "outputId": "0df17c12-3366-4d5c-86d2-5dbf17b471ee"
      },
      "execution_count": null,
      "outputs": [
        {
          "output_type": "stream",
          "name": "stdout",
          "text": [
            "<class 'pandas.core.frame.DataFrame'>\n",
            "RangeIndex: 59946 entries, 0 to 59945\n",
            "Data columns (total 31 columns):\n",
            " #   Column       Non-Null Count  Dtype  \n",
            "---  ------       --------------  -----  \n",
            " 0   age          59946 non-null  int64  \n",
            " 1   body_type    54650 non-null  object \n",
            " 2   diet         35551 non-null  object \n",
            " 3   drinks       56961 non-null  object \n",
            " 4   drugs        45866 non-null  object \n",
            " 5   education    53318 non-null  object \n",
            " 6   essay0       54458 non-null  object \n",
            " 7   essay1       52374 non-null  object \n",
            " 8   essay2       50308 non-null  object \n",
            " 9   essay3       48470 non-null  object \n",
            " 10  essay4       49409 non-null  object \n",
            " 11  essay5       49096 non-null  object \n",
            " 12  essay6       46175 non-null  object \n",
            " 13  essay7       47495 non-null  object \n",
            " 14  essay8       40721 non-null  object \n",
            " 15  essay9       47343 non-null  object \n",
            " 16  ethnicity    54266 non-null  object \n",
            " 17  height       59943 non-null  float64\n",
            " 18  income       59946 non-null  int64  \n",
            " 19  job          51748 non-null  object \n",
            " 20  last_online  59946 non-null  object \n",
            " 21  location     59946 non-null  object \n",
            " 22  offspring    24385 non-null  object \n",
            " 23  orientation  59946 non-null  object \n",
            " 24  pets         40025 non-null  object \n",
            " 25  religion     39720 non-null  object \n",
            " 26  sex          59946 non-null  object \n",
            " 27  sign         48890 non-null  object \n",
            " 28  smokes       54434 non-null  object \n",
            " 29  speaks       59896 non-null  object \n",
            " 30  status       59946 non-null  object \n",
            "dtypes: float64(1), int64(2), object(28)\n",
            "memory usage: 14.2+ MB\n"
          ]
        }
      ]
    },
    {
      "cell_type": "code",
      "source": [],
      "metadata": {
        "id": "G1W_W7IQRs4D"
      },
      "execution_count": null,
      "outputs": []
    }
  ]
}